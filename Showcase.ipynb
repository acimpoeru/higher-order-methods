{
 "metadata": {
  "name": ""
 },
 "nbformat": 3,
 "nbformat_minor": 0,
 "worksheets": [
  {
   "cells": [
    {
     "cell_type": "markdown",
     "metadata": {},
     "source": [
      "This notebook serves to showcase the different methods.\n",
      "\n",
      "We benchmark our methods in two 1-D problems using Euler equations in the conservation form:\n",
      "\n",
      "$$ \\frac{\\partial \\rho}{\\partial t} + \\frac{\\partial \\rho u}{\\partial x} = 0 $$\n",
      "$$ \\frac{\\partial \\rho u}{\\partial t} + \\frac{\\partial}{\\partial x}( \\rho u^2 + p) = 0 $$\n",
      "$$ \\frac{\\partial e}{\\partial t} + \\frac{\\partial}{\\partial x} (u(e-p)) = 0 $$\n",
      "\n",
      "#Smooth flow:\n",
      "With initial conditions:\n",
      "$$ \\rho_0  (x) = 1+0.999...sin(\\pi x) $$\n",
      "$$ u_0 (x) = 0.9 $$\n",
      "$$ p_0 (x) = 1$$\n",
      "\n"
     ]
    },
    {
     "cell_type": "markdown",
     "metadata": {},
     "source": [
      "#Shock tube problem: \n",
      "$\\Omega = [0,1]$\n",
      "\n",
      "With initial conditions:\n",
      "$$\\rho_0(x) = \\left\\{ \\begin{array}{rl}\n",
      " 1.0 &\\mbox{ if $x \\leq \\frac{1}{2}$} \\\\\n",
      "  0.125 &\\mbox{ if $x > \\frac{1}{2}$}\n",
      "       \\end{array} \\right.\n",
      "$$\n",
      "\n",
      "$$p_0(x) = \\left\\{ \\begin{array}{rl}\n",
      " 1.0 &\\mbox{ if $x \\leq \\frac{1}{2}$} \\\\\n",
      "  0.1 &\\mbox{ if $x > \\frac{1}{2}$}\n",
      "       \\end{array} \\right.\n",
      "$$\n",
      "\n",
      "$$u_0(x) = 0$$"
     ]
    },
    {
     "cell_type": "markdown",
     "metadata": {},
     "source": [
      "Below we show how to use the analytical solution for this problem, using the module analytical_solutions.py"
     ]
    },
    {
     "cell_type": "code",
     "collapsed": false,
     "input": [
      "%matplotlib inline"
     ],
     "language": "python",
     "metadata": {},
     "outputs": [],
     "prompt_number": "*"
    },
    {
     "cell_type": "code",
     "collapsed": false,
     "input": [
      "from analytical_solutions import ShockRodAnal\n",
      "import matplotlib.pyplot as plt\n",
      "\n",
      "gamma = 1.4\n",
      "AnalyticalSol = ShockRodAnal(initial_state=[(1, 1, 0), (0.1, 0.125, 0.)], geometry=(0., 1., 0.5))\n",
      "values = AnalyticalSol.get_analytical_solution(N=500, t=0.2)\n",
      "\n",
      "p = values['p']\n",
      "rho = values['rho']\n",
      "u = values['u']\n",
      "\n",
      "# Energy and temperature\n",
      "E = p/(gamma-1.) + 0.5*u**2\n",
      "T = p/rho\n",
      "\n",
      "plt.figure(1)\n",
      "plt.plot(values['x'], p, linewidth=1.5, color='b')\n",
      "plt.ylabel('pressure')\n",
      "plt.xlabel('x')\n",
      "plt.axis([0, 1, 0, 1.1])\n",
      "plt.show()"
     ],
     "language": "python",
     "metadata": {},
     "outputs": [],
     "prompt_number": "*"
    },
    {
     "cell_type": "markdown",
     "metadata": {},
     "source": [
      "Solve the problem using WENO scheme, and we compare the results with the analytical solution below:"
     ]
    },
    {
     "cell_type": "code",
     "collapsed": false,
     "input": [
      "#import weno"
     ],
     "language": "python",
     "metadata": {},
     "outputs": []
    }
   ],
   "metadata": {}
  }
 ]
}