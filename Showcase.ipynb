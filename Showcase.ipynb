{
 "metadata": {
  "name": ""
 },
 "nbformat": 3,
 "nbformat_minor": 0,
 "worksheets": [
  {
   "cells": [
    {
     "cell_type": "markdown",
     "metadata": {},
     "source": [
      "This notebook serves to showcase the different methods.\n",
      "\n",
      "We benchmark our methods in two 1-D problems:\n",
      "\n",
      "$$ \\frac{\\partial \\rho}{\\partial t} + \\frac{\\partial \\rho u}{\\partial x} = 0 $$\n",
      "$$ \\frac{\\partial \\rho u}{\\partial t} + \\frac{\\partial}{\\partial x}( \\rho u^2 + p) = 0 $$\n",
      "$$ \\frac{\\partial e}{\\partial t} + \\frac{\\partial}{\\partial x} (u(e-p)) = 0 $$\n",
      "\n",
      "#Smooth flow:\n",
      "With initial conditions:\n",
      "$$ \\rho_0  (x) = 1+0.999...sin(\\pi x) $$\n",
      "$$ u_0 (x) = 0.9 $$\n",
      "$$ p_0 (x) = 1$$\n",
      "\n",
      "\n",
      "#Shock tube problem: \n",
      "$\\Omega = [0,1]$\n",
      "\n",
      "With initial conditions:\n",
      "$$\\rho_0(x) = \\left\\{ \\begin{array}{rl}\n",
      " 1.0 &\\mbox{ if $x \\leq \\frac{1}{2}$} \\\\\n",
      "  0.125 &\\mbox{ if $x > \\frac{1}{2}$}\n",
      "       \\end{array} \\right.\n",
      "$$\n",
      "\n",
      "$$p_0(x) = \\left\\{ \\begin{array}{rl}\n",
      " 1.0 &\\mbox{ if $x \\leq \\frac{1}{2}$} \\\\\n",
      "  0.1 &\\mbox{ if $x > \\frac{1}{2}$}\n",
      "       \\end{array} \\right.\n",
      "$$\n",
      "\n",
      "$$u_0(x) = 0$$"
     ]
    },
    {
     "cell_type": "code",
     "collapsed": false,
     "input": [],
     "language": "python",
     "metadata": {},
     "outputs": []
    }
   ],
   "metadata": {}
  }
 ]
}